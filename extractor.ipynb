{
 "cells": [
  {
   "cell_type": "code",
   "execution_count": null,
   "metadata": {
    "vscode": {
     "languageId": "plaintext"
    }
   },
   "outputs": [],
   "source": [
    "# Estructura de archivos para la práctica 3 de Análisis de Grafos (tema: red de personajes Marvel)\n",
    "\n",
    "# Justificación: Se usa la API de Marvel para construir un grafo realista basado en cómics y personajes.\n",
    "# Cada personaje será un nodo, y los enlaces entre ellos se crean si aparecen en el mismo cómic.\n",
    "\n",
    "# 01_extractor.ipynb (descarga datos desde la API de Marvel)\n",
    "import requests\n",
    "import pandas as pd\n",
    "import time\n",
    "\n",
    "# Claves de acceso Marvel (guardar en marvel_keys.txt con formato: PUBLIC_KEY,PRIVATE_KEY,HASH)\n",
    "with open(\"marvel_keys.txt\", \"r\") as f:\n",
    "    keys = f.read().strip().split(\",\")\n",
    "    PUBLIC_KEY = keys[0]\n",
    "    HASH = keys[2]\n",
    "\n",
    "BASE_URL = \"https://gateway.marvel.com/v1/public\"\n",
    "ts = 1\n",
    "\n",
    "comics = []\n",
    "\n",
    "for offset in range(0, 100, 20):\n",
    "    url = f\"{BASE_URL}/comics?orderBy=-modified&limit=20&offset={offset}&ts={ts}&apikey={PUBLIC_KEY}&hash={HASH}\"\n",
    "    response = requests.get(url)\n",
    "    if response.status_code != 200:\n",
    "        continue\n",
    "    results = response.json()[\"data\"][\"results\"]\n",
    "    for comic in results:\n",
    "        comic_id = comic[\"id\"]\n",
    "        title = comic[\"title\"]\n",
    "        char_url = f\"{BASE_URL}/comics/{comic_id}/characters?ts={ts}&apikey={PUBLIC_KEY}&hash={HASH}\"\n",
    "        char_response = requests.get(char_url)\n",
    "        if char_response.status_code != 200:\n",
    "            continue\n",
    "        characters = char_response.json()[\"data\"][\"results\"]\n",
    "        for char in characters:\n",
    "            comics.append({\n",
    "                \"comic\": title,\n",
    "                \"character\": char[\"name\"]\n",
    "            })\n",
    "    time.sleep(1)  # para evitar sobrecarga\n",
    "\n",
    "# Guardar en INPUT\n",
    "marvel_df = pd.DataFrame(comics)\n",
    "marvel_df.to_csv(\"INPUT/marvel_characters.csv\", index=False)"
   ]
  }
 ],
 "metadata": {
  "language_info": {
   "name": "python"
  }
 },
 "nbformat": 4,
 "nbformat_minor": 2
}
