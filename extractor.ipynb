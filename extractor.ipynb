{
 "cells": [
  {
   "cell_type": "markdown",
   "metadata": {},
   "source": [
    "### Estructura de archivos para la práctica 3 de Análisis de Grafos (tema: red de personajes Marvel)\n",
    "\n",
    "Justificación: Se usa la API de Marvel para construir un grafo basado en cómics y personajes.\n",
    "Cada personaje será un nodo, y los enlaces entre ellos se crean si aparecen en el mismo cómic."
   ]
  },
  {
   "cell_type": "code",
   "execution_count": 10,
   "metadata": {},
   "outputs": [],
   "source": [
    "# 01_extractor.ipynb (descarga datos desde la API de Marvel)\n",
    "import requests\n",
    "import pandas as pd\n",
    "import time\n",
    "import os"
   ]
  },
  {
   "cell_type": "code",
   "execution_count": null,
   "metadata": {},
   "outputs": [],
   "source": [
    "# Crear carpeta INPUT si no existe\n",
    "if not os.path.exists(\"INPUT\"):\n",
    "    os.makedirs(\"INPUT\")"
   ]
  },
  {
   "cell_type": "code",
   "execution_count": 11,
   "metadata": {},
   "outputs": [],
   "source": [
    "from dotenv import load_dotenv\n",
    "import os\n",
    "\n",
    "# Load environment variables from .env file\n",
    "load_dotenv()\n",
    "\n",
    "# Retrieve the keys\n",
    "PUBLIC_KEY = os.getenv(\"PUBLIC_KEY\")\n",
    "PRIVATE_KEY = os.getenv(\"PRIVATE_KEY\")\n",
    "HASH = os.getenv(\"HASH\")"
   ]
  },
  {
   "cell_type": "code",
   "execution_count": 12,
   "metadata": {},
   "outputs": [],
   "source": [
    "BASE_URL = \"https://gateway.marvel.com/v1/public\"\n",
    "ts = 1"
   ]
  },
  {
   "cell_type": "code",
   "execution_count": 13,
   "metadata": {},
   "outputs": [],
   "source": [
    "comics = []\n",
    "\n",
    "# Extraer hasta un número máximo de cómics (por ejemplo, 100 cómics)\n",
    "max_comics = 100\n",
    "limit = 20\n",
    "\n",
    "for offset in range(0, max_comics, limit):\n",
    "    url = f\"{BASE_URL}/comics?orderBy=-modified&limit={limit}&offset={offset}&ts={ts}&apikey={PUBLIC_KEY}&hash={HASH}\"\n",
    "    response = requests.get(url)\n",
    "    if response.status_code != 200:\n",
    "        continue\n",
    "    results = response.json()[\"data\"][\"results\"]\n",
    "    for comic in results:\n",
    "        comic_id = comic[\"id\"]\n",
    "        title = comic[\"title\"]\n",
    "        char_url = f\"{BASE_URL}/comics/{comic_id}/characters?ts={ts}&apikey={PUBLIC_KEY}&hash={HASH}\"\n",
    "        char_response = requests.get(char_url)\n",
    "        if char_response.status_code != 200:\n",
    "            continue\n",
    "        characters = char_response.json()[\"data\"][\"results\"]\n",
    "        for char in characters:\n",
    "            comics.append({\n",
    "                \"comic\": title,\n",
    "                \"character\": char[\"name\"]\n",
    "            })\n",
    "    time.sleep(1)  # para evitar sobrecarga"
   ]
  },
  {
   "cell_type": "code",
   "execution_count": 15,
   "metadata": {},
   "outputs": [],
   "source": [
    "# Guardar en INPUT\n",
    "marvel_df = pd.DataFrame(comics)\n",
    "marvel_df.to_csv(\"INPUT/marvel_characters.csv\", index=False)"
   ]
  }
 ],
 "metadata": {
  "kernelspec": {
   "display_name": "base",
   "language": "python",
   "name": "python3"
  },
  "language_info": {
   "codemirror_mode": {
    "name": "ipython",
    "version": 3
   },
   "file_extension": ".py",
   "mimetype": "text/x-python",
   "name": "python",
   "nbconvert_exporter": "python",
   "pygments_lexer": "ipython3",
   "version": "3.11.7"
  }
 },
 "nbformat": 4,
 "nbformat_minor": 2
}
