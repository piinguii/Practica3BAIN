{
 "cells": [
  {
   "cell_type": "code",
   "execution_count": 1,
   "metadata": {},
   "outputs": [],
   "source": [
    "import pandas as pd\n",
    "import networkx as nx"
   ]
  },
  {
   "cell_type": "code",
   "execution_count": 2,
   "metadata": {},
   "outputs": [],
   "source": [
    "marvel_df = pd.read_csv(\"INPUT/marvel_characters.csv\")\n",
    "\n",
    "G = nx.Graph()\n",
    "\n",
    "for comic, grupo in marvel_df.groupby(\"comic\"):\n",
    "    personajes = grupo[\"character\"].tolist()\n",
    "    for i in range(len(personajes)):\n",
    "        for j in range(i + 1, len(personajes)):\n",
    "            G.add_edge(personajes[i], personajes[j], comic=comic)\n",
    "\n",
    "nx.write_gexf(G, \"grafo.gexf\")"
   ]
  }
 ],
 "metadata": {
  "kernelspec": {
   "display_name": "base",
   "language": "python",
   "name": "python3"
  },
  "language_info": {
   "codemirror_mode": {
    "name": "ipython",
    "version": 3
   },
   "file_extension": ".py",
   "mimetype": "text/x-python",
   "name": "python",
   "nbconvert_exporter": "python",
   "pygments_lexer": "ipython3",
   "version": "3.11.7"
  }
 },
 "nbformat": 4,
 "nbformat_minor": 2
}
