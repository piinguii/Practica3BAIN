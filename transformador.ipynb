{
 "cells": [
  {
   "cell_type": "code",
   "execution_count": null,
   "metadata": {
    "vscode": {
     "languageId": "plaintext"
    }
   },
   "outputs": [],
   "source": [
    "import pandas as pd\n",
    "import networkx as nx\n",
    "\n"
   ]
  },
  {
   "cell_type": "code",
   "execution_count": null,
   "metadata": {
    "vscode": {
     "languageId": "plaintext"
    }
   },
   "outputs": [],
   "source": [
    "marvel_df = pd.read_csv(\"INPUT/marvel_characters.csv\")\n",
    "\n",
    "G = nx.Graph()\n",
    "\n",
    "for comic, grupo in marvel_df.groupby(\"comic\"):\n",
    "    personajes = grupo[\"character\"].tolist()\n",
    "    for i in range(len(personajes)):\n",
    "        for j in range(i + 1, len(personajes)):\n",
    "            G.add_edge(personajes[i], personajes[j], comic=comic)\n",
    "\n",
    "nx.write_gexf(G, \"grafo.gexf\")"
   ]
  }
 ],
 "metadata": {
  "language_info": {
   "name": "python"
  }
 },
 "nbformat": 4,
 "nbformat_minor": 2
}
