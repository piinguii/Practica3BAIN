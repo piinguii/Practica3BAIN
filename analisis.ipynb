{
 "cells": [
  {
   "cell_type": "code",
   "execution_count": null,
   "metadata": {
    "vscode": {
     "languageId": "plaintext"
    }
   },
   "outputs": [],
   "source": [
    "import networkx as nx\n",
    "import community as community_louvain\n"
   ]
  },
  {
   "cell_type": "code",
   "execution_count": null,
   "metadata": {
    "vscode": {
     "languageId": "plaintext"
    }
   },
   "outputs": [],
   "source": [
    "G = nx.read_gexf(\"grafo.gexf\")\n",
    "grado = dict(G.degree())\n",
    "centr_grado = nx.degree_centrality(G)\n",
    "centr_intermediacion = nx.betweenness_centrality(G)\n",
    "centr_cercania = nx.closeness_centrality(G)\n",
    "particion = community_louvain.best_partition(G)\n",
    "\n",
    "plt.figure(figsize=(10, 8))\n",
    "pos = nx.spring_layout(G)\n",
    "nx.draw_networkx_nodes(G, pos, node_size=50, cmap=plt.cm.Set3,\n",
    "                       node_color=list(particion.values()))\n",
    "nx.draw_networkx_edges(G, pos, alpha=0.5)\n",
    "plt.title(\"Grafo de comunidades (personajes Marvel)\")\n",
    "plt.show()"
   ]
  }
 ],
 "metadata": {
  "language_info": {
   "name": "python"
  }
 },
 "nbformat": 4,
 "nbformat_minor": 2
}
